{
 "cells": [
  {
   "cell_type": "markdown",
   "metadata": {},
   "source": [
    "# Linear"
   ]
  },
  {
   "cell_type": "code",
   "execution_count": 37,
   "metadata": {},
   "outputs": [
    {
     "name": "stdout",
     "output_type": "stream",
     "text": [
      "Parameter containing:\n",
      "tensor([[-0.5201, -0.4555, -0.5559],\n",
      "        [ 0.4879,  0.3855, -0.3528]], requires_grad=True)\n",
      "torch.Size([2, 3])\n",
      "Parameter containing:\n",
      "tensor([ 0.3217, -0.5195], requires_grad=True)\n",
      "torch.Size([2])\n",
      "tensor([[-1.4310, -1.4634]], grad_fn=<AddmmBackward>)\n"
     ]
    }
   ],
   "source": [
    "import torch\n",
    "\n",
    "input_num = 3   # 輸入維度\n",
    "output_num = 2  # 輸出維度\n",
    "\n",
    "func = torch.nn.Linear(input_num, output_num)\n",
    "\n",
    "print(func.weight)\n",
    "print(func.weight.shape)\n",
    "\n",
    "print(func.bias)\n",
    "print(func.bias.shape)\n",
    "\n",
    "print(func(torch.randn(1,input_num)))\n"
   ]
  },
  {
   "cell_type": "markdown",
   "metadata": {},
   "source": [
    "## Back Propagation with PyTorch"
   ]
  },
  {
   "cell_type": "code",
   "execution_count": null,
   "metadata": {
    "jupyter": {
     "source_hidden": true
    }
   },
   "outputs": [],
   "source": [
    "import torch\n",
    "\n",
    "\n",
    "x_data = [1.0, 2.0, 3.0]\n",
    "y_data = [2.0, 4.0, 6.0]\n",
    "\n",
    "w = torch.tensor([1.0],  requires_grad=True)  # Any random value\n",
    "\n",
    "# our model forward pass\n",
    "\n",
    "\n",
    "def forward(x):\n",
    "    return x * w\n",
    "\n",
    "# Loss function\n",
    "\n",
    "def loss(x, y):\n",
    "    y_pred = forward(x)\n",
    "    return (y_pred - y) * (y_pred - y)\n",
    "\n",
    "# Before training\n",
    "print(\"predict (before training)\", 4, forward(4).item())\n",
    "\n",
    "# Training loop\n",
    "for epoch in range(20):\n",
    "    for x_val, y_val in zip(x_data, y_data):\n",
    "        l = loss(x_val, y_val)\n",
    "        l.backward()\n",
    "        print(\"\\tgrad: \", x_val, y_val, w.grad.data[0])\n",
    "        w.data = w.data - 0.01 * w.grad.data\n",
    "\n",
    "        # Manually zero the gradients after updating weights\n",
    "    w.grad.data.zero_()\n",
    "\n",
    "    print(\"progress:\", epoch, l.data[0])\n",
    "\n",
    "# After training\n",
    "print(\"predict (after training)\", 4, forward(4).data[0])\n"
   ]
  },
  {
   "cell_type": "code",
   "execution_count": null,
   "metadata": {},
   "outputs": [],
   "source": [
    "import torch\n",
    "\n",
    "\n",
    "x_data = [1.0, 2.0, 3.0]\n",
    "y_data = [2.0, 4.0, 6.0]\n",
    "\n",
    "w1 = torch.tensor([1.0],  requires_grad=True)  # Any random value\n",
    "w2 = torch.tensor([1.0],  requires_grad=True) \n",
    "b = torch.tensor([1.0],  requires_grad=True) \n",
    "# our model forward pass\n",
    "\n",
    "\n",
    "def forward(x):\n",
    "    return x ** 2 * w2 + x * w1 + b\n",
    "\n",
    "# Loss function\n",
    "\n",
    "def loss(x, y):\n",
    "    y_pred = forward(x)\n",
    "    return (y_pred - y) * (y_pred - y)\n",
    "\n",
    "# Before training\n",
    "print(\"predict (before training)\", 4, forward(4).data[0])\n",
    "\n",
    "# Training loop\n",
    "for epoch in range(100):\n",
    "    for x_val, y_val in zip(x_data, y_data):\n",
    "        l = loss(x_val, y_val)\n",
    "        l.backward()\n",
    "        print(\"\\tgrad: \", x_val, y_val, w1.grad.data[0], w2.grad.data[0], b.grad.data[0])\n",
    "    w1.data = w1.data - 0.01 * w1.grad.data\n",
    "    w2.data = w2.data - 0.01 * w2.grad.data\n",
    "    b.data = b.data - 0.01 * b.grad.data\n",
    "    # Manually zero the gradients after updating weights\n",
    "    w1.grad.data.zero_()\n",
    "    w2.grad.data.zero_()\n",
    "    b.grad.data.zero_()\n",
    "\n",
    "    print(\"progress:\", epoch, l.data[0])\n",
    "\n",
    "# After training\n",
    "print(\"predict (after training)\", 4, forward(4).data[0])\n"
   ]
  },
  {
   "cell_type": "markdown",
   "metadata": {},
   "source": [
    "# The 'pytorch' way"
   ]
  },
  {
   "cell_type": "code",
   "execution_count": 9,
   "metadata": {},
   "outputs": [
    {
     "name": "stderr",
     "output_type": "stream",
     "text": [
      "100%|██████████| 5000/5000 [00:01<00:00, 3800.77it/s]"
     ]
    },
    {
     "name": "stdout",
     "output_type": "stream",
     "text": [
      "predict (after training) 100 200.0000457763672\n",
      "weights = 2.000000476837158\n",
      "bias = -2.62251592175744e-06\n"
     ]
    },
    {
     "name": "stderr",
     "output_type": "stream",
     "text": [
      "\n"
     ]
    }
   ],
   "source": [
    "import torch\n",
    "from tqdm import tqdm\n",
    "\n",
    "x = torch.arange(1.0, 11.0, step=1, out=None)\n",
    "y = torch.arange(2.0, 22.0, step=2, out=None)\n",
    "x = x.view(10,-1)\n",
    "y = y.view(10,-1)\n",
    "# x = torch.tensor([[1.0], [2.0], [3.0], [4.0]]) \n",
    "# y = torch.tensor([[2.0], [4.0], [6.0], [8.0]])\n",
    "\n",
    "\n",
    "class LinearRegressionModel(torch.nn.Module): \n",
    "    def __init__(self): \n",
    "        super(LinearRegressionModel, self).__init__() \n",
    "        self.linear = torch.nn.Linear(1, 1, bias=True)\n",
    "  \n",
    "    def forward(self, x): \n",
    "        y_pred = self.linear(x) \n",
    "        return y_pred \n",
    "\n",
    "our_model = LinearRegressionModel() \n",
    "  \n",
    "criterion = torch.nn.MSELoss(reduction='mean') \n",
    "optimizer = torch.optim.SGD(our_model.parameters(), lr = 0.01)\n",
    "\n",
    "for epoch in tqdm(range(5000)): \n",
    "  \n",
    "    pred_y = our_model(x) \n",
    "  \n",
    "    # Compute and print loss \n",
    "    loss = criterion(pred_y, y) \n",
    "  \n",
    "    # Zero gradients, perform a backward pass,  \n",
    "    # and update the weights. \n",
    "    optimizer.zero_grad() \n",
    "    loss.backward() \n",
    "    optimizer.step() \n",
    "    # print('epoch {}, loss {}'.format(epoch, loss.item())) \n",
    "\n",
    "new_var = torch.tensor([[100.0]]) \n",
    "pred_y = our_model(new_var) \n",
    "print(\"predict (after training)\", 100, our_model(new_var).item()) \n",
    "print('weights = {}'.format(our_model.linear.weight.item()))\n",
    "try:\n",
    "    print('bias = {}'.format(our_model.linear.bias.item()))\n",
    "except:\n",
    "    print(\"No bias\")"
   ]
  }
 ],
 "metadata": {
  "kernelspec": {
   "display_name": "Python [conda env:pytorch]",
   "language": "python",
   "name": "conda-env-pytorch-py"
  },
  "language_info": {
   "codemirror_mode": {
    "name": "ipython",
    "version": 3
   },
   "file_extension": ".py",
   "mimetype": "text/x-python",
   "name": "python",
   "nbconvert_exporter": "python",
   "pygments_lexer": "ipython3",
   "version": "3.6.5"
  }
 },
 "nbformat": 4,
 "nbformat_minor": 4
}
