{
 "cells": [
  {
   "cell_type": "code",
   "execution_count": 5,
   "metadata": {},
   "outputs": [],
   "source": [
    "import os\n",
    "from torchvision import datasets\n",
    "import torch\n",
    "from torch.utils.data import random_split\n",
    "import pathlib\n",
    "from pathlib import Path\n",
    "import shutil\n",
    "\n",
    "def create_split_dataset(rootdir, destdir, augment_ratio=0.7):\n",
    "    \n",
    "    rootdataset = datasets.ImageFolder(rootdir)\n",
    "    \n",
    "    subfolders = ['augment', 'val', 'test']\n",
    "    classes = rootdataset.classes\n",
    "        \n",
    "    \"\"\"\n",
    "    Creating sub folders\n",
    "    \"\"\"\n",
    "    \n",
    "    for f in subfolders:\n",
    "        dest_f = os.path.join(destdir, f)\n",
    "        pathlib.Path(dest_f).mkdir(parents=True, exist_ok=True) \n",
    "        \n",
    "        for cls in classes:\n",
    "            dest_cls = os.path.join(dest_f, cls)\n",
    "            pathlib.Path(dest_cls).mkdir(parents=True, exist_ok=True) \n",
    "            \n",
    "    \n",
    "    \"\"\"\n",
    "    Spliting dataset into augment, val, test\n",
    "    \"\"\"\n",
    "    \n",
    "    data_size = len(rootdataset)\n",
    "    augment_size = int(augment_ratio * data_size)\n",
    "    test_size = int((1-augment_ratio) * 0.5 * data_size)\n",
    "    val_size = data_size - augment_size - test_size\n",
    "    \n",
    "    augmentd, testd, vald = random_split(rootdataset,\n",
    "                                       [augment_size, test_size, val_size])\n",
    "    \n",
    "    \n",
    "    \"\"\"\n",
    "    Getting file index from dataset\n",
    "    \"\"\"\n",
    "    \n",
    "    augment = [rootdataset.imgs[i][0] for i in augmentd.indices]\n",
    "    val = [rootdataset.imgs[i][0] for i in vald.indices]\n",
    "    test = [rootdataset.imgs[i][0] for i in testd.indices]\n",
    "    \n",
    "    for files in subfolders:\n",
    "        for f in eval(files):\n",
    "            cls = Path(f).parts[-2]\n",
    "            dest = os.path.join(destdir,os.path.join(files,cls))\n",
    "            shutil.copy2(f, dest)\n",
    "            "
   ]
  },
  {
   "cell_type": "code",
   "execution_count": 6,
   "metadata": {},
   "outputs": [],
   "source": [
    "rootdir = './images'\n",
    "destdir = './dstest'\n",
    "create_split_dataset(rootdir, destdir, augment_ratio=0.7)"
   ]
  }
 ],
 "metadata": {
  "kernelspec": {
   "display_name": "Python [conda env:pytorch]",
   "language": "python",
   "name": "conda-env-pytorch-py"
  },
  "language_info": {
   "codemirror_mode": {
    "name": "ipython",
    "version": 3
   },
   "file_extension": ".py",
   "mimetype": "text/x-python",
   "name": "python",
   "nbconvert_exporter": "python",
   "pygments_lexer": "ipython3",
   "version": "3.6.5"
  }
 },
 "nbformat": 4,
 "nbformat_minor": 4
}
