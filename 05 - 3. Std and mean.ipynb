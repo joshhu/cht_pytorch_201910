{
 "cells": [
  {
   "cell_type": "code",
   "execution_count": 7,
   "metadata": {},
   "outputs": [],
   "source": [
    "import torch\n",
    "from torchvision import datasets, transforms"
   ]
  },
  {
   "cell_type": "code",
   "execution_count": 17,
   "metadata": {},
   "outputs": [],
   "source": [
    "def get_std_mean(rootdir, height, width):\n",
    "\n",
    "    transform = transforms.Compose([transforms.Resize((height, width), interpolation=2),\n",
    "                                    transforms.ToTensor()\n",
    "                                  ])\n",
    "    mydataset = datasets.ImageFolder(rootdir, transform=transform)\n",
    "    \n",
    "    tt = torch.empty(len(mydataset),3,height, width)\n",
    "    for i, t in enumerate(mydataset):\n",
    "        tt[i] = t[0]\n",
    "    c0 = tt[:,0,:]\n",
    "    c1 = tt[:,1,:]\n",
    "    c2 = tt[:,2,:]\n",
    "\n",
    "    m0 = c0.mean()\n",
    "    m1 = c1.mean()\n",
    "    m2 = c2.mean()\n",
    "\n",
    "    s0 = c0.std()\n",
    "    s1 = c1.std()\n",
    "    s2 = c2.std()\n",
    "    return (m0.item(), m1.item(), m2.item()) , (s0.item(), s1.item(), s2.item())"
   ]
  },
  {
   "cell_type": "code",
   "execution_count": 18,
   "metadata": {},
   "outputs": [
    {
     "name": "stdout",
     "output_type": "stream",
     "text": [
      "((0.2936777174472809, 0.2521389126777649, 0.23884029686450958), (0.30015286803245544, 0.2760666012763977, 0.2753622233867645))\n"
     ]
    }
   ],
   "source": [
    "rootdir = 'dstest/augment'\n",
    "print(get_std_mean(rootdir, height=256, width=256))"
   ]
  }
 ],
 "metadata": {
  "kernelspec": {
   "display_name": "Python [conda env:pytorch]",
   "language": "python",
   "name": "conda-env-pytorch-py"
  },
  "language_info": {
   "codemirror_mode": {
    "name": "ipython",
    "version": 3
   },
   "file_extension": ".py",
   "mimetype": "text/x-python",
   "name": "python",
   "nbconvert_exporter": "python",
   "pygments_lexer": "ipython3",
   "version": "3.6.5"
  }
 },
 "nbformat": 4,
 "nbformat_minor": 4
}
