{
 "cells": [
  {
   "cell_type": "markdown",
   "metadata": {},
   "source": [
    "# 用Pytorch實作Deep Convolutional GANs\n"
   ]
  },
  {
   "cell_type": "code",
   "execution_count": 1,
   "metadata": {},
   "outputs": [],
   "source": [
    "import torch\n",
    "import torchvision\n",
    "import torch.nn as nn\n",
    "import torch.nn.functional as F"
   ]
  },
  {
   "cell_type": "code",
   "execution_count": 2,
   "metadata": {},
   "outputs": [],
   "source": [
    "from torch.utils.data import DataLoader\n",
    "from torchvision import datasets\n",
    "from torchvision import transforms\n",
    "from torchvision.utils import save_image"
   ]
  },
  {
   "cell_type": "code",
   "execution_count": 3,
   "metadata": {},
   "outputs": [],
   "source": [
    "import numpy as np\n",
    "import datetime\n",
    "import os, sys"
   ]
  },
  {
   "cell_type": "code",
   "execution_count": 4,
   "metadata": {},
   "outputs": [],
   "source": [
    "from matplotlib.pyplot import imshow, imsave\n",
    "%matplotlib inline"
   ]
  },
  {
   "cell_type": "code",
   "execution_count": 5,
   "metadata": {},
   "outputs": [],
   "source": [
    "MODEL_NAME = 'DCGAN'\n",
    "DEVICE = torch.device(\"cuda:0\" if torch.cuda.is_available() else \"cpu\")"
   ]
  },
  {
   "cell_type": "code",
   "execution_count": 6,
   "metadata": {},
   "outputs": [],
   "source": [
    "def get_sample_image(G, n_noise):\n",
    "    \"\"\"\n",
    "        save sample 100 images\n",
    "    \"\"\"\n",
    "    z = torch.randn(100, n_noise).to(DEVICE)\n",
    "    y_hat = G(z).view(100, 28, 28) # (100, 28, 28)\n",
    "    result = y_hat.cpu().data.numpy()\n",
    "    img = np.zeros([280, 280])\n",
    "    for j in range(10):\n",
    "        img[j*28:(j+1)*28] = np.concatenate([x for x in result[j*10:(j+1)*10]], axis=-1)\n",
    "    return img"
   ]
  },
  {
   "cell_type": "code",
   "execution_count": 7,
   "metadata": {},
   "outputs": [],
   "source": [
    "class Discriminator(nn.Module):\n",
    "    \"\"\"\n",
    "        Convolutional Discriminator for MNIST\n",
    "    \"\"\"\n",
    "    def __init__(self, in_channel=1, num_classes=1):\n",
    "        super(Discriminator, self).__init__()\n",
    "        self.conv = nn.Sequential(\n",
    "            # 28 -> 14\n",
    "            nn.Conv2d(in_channel, 512, 3, stride=2, padding=1, bias=False),\n",
    "            nn.BatchNorm2d(512),\n",
    "            nn.LeakyReLU(0.2),\n",
    "            # 14 -> 7\n",
    "            nn.Conv2d(512, 256, 3, stride=2, padding=1, bias=False),\n",
    "            nn.BatchNorm2d(256),\n",
    "            nn.LeakyReLU(0.2),\n",
    "            # 7 -> 4\n",
    "            nn.Conv2d(256, 128, 3, stride=2, padding=1, bias=False),\n",
    "            nn.BatchNorm2d(128),\n",
    "            nn.LeakyReLU(0.2),\n",
    "            nn.AvgPool2d(4),\n",
    "        )\n",
    "        self.fc = nn.Sequential(\n",
    "            # reshape input, 128 -> 1\n",
    "            nn.Linear(128, 1),\n",
    "            nn.Sigmoid(),\n",
    "        )\n",
    "    \n",
    "    def forward(self, x, y=None):\n",
    "        y_ = self.conv(x)\n",
    "        y_ = y_.view(y_.size(0), -1)\n",
    "        y_ = self.fc(y_)\n",
    "        return y_"
   ]
  },
  {
   "cell_type": "code",
   "execution_count": 8,
   "metadata": {},
   "outputs": [],
   "source": [
    "class Generator(nn.Module):\n",
    "    \"\"\"\n",
    "        Convolutional Generator for MNIST\n",
    "    \"\"\"\n",
    "    def __init__(self, input_size=100, num_classes=784):\n",
    "        super(Generator, self).__init__()\n",
    "        self.fc = nn.Sequential(\n",
    "            nn.Linear(input_size, 4*4*512),\n",
    "            nn.ReLU(),\n",
    "        )\n",
    "        self.conv = nn.Sequential(\n",
    "            # input: 4 by 4, output: 7 by 7\n",
    "            nn.ConvTranspose2d(512, 256, 3, stride=2, padding=1, bias=False),\n",
    "            nn.BatchNorm2d(256),\n",
    "            nn.ReLU(),\n",
    "            # input: 7 by 7, output: 14 by 14\n",
    "            nn.ConvTranspose2d(256, 128, 4, stride=2, padding=1, bias=False),\n",
    "            nn.BatchNorm2d(128),\n",
    "            nn.ReLU(),\n",
    "            # input: 14 by 14, output: 28 by 28\n",
    "            nn.ConvTranspose2d(128, 1, 4, stride=2, padding=1, bias=False),\n",
    "            nn.Tanh(),\n",
    "        )\n",
    "        \n",
    "    def forward(self, x, y=None):\n",
    "        x = x.view(x.size(0), -1)\n",
    "        y_ = self.fc(x)\n",
    "        y_ = y_.view(y_.size(0), 512, 4, 4)\n",
    "        y_ = self.conv(y_)\n",
    "        return y_"
   ]
  },
  {
   "cell_type": "code",
   "execution_count": 9,
   "metadata": {},
   "outputs": [],
   "source": [
    "D = Discriminator().to(DEVICE)\n",
    "G = Generator().to(DEVICE)\n",
    "# D.load_state_dict('D_dc.pkl')\n",
    "# G.load_state_dict('G_dc.pkl')"
   ]
  },
  {
   "cell_type": "code",
   "execution_count": 10,
   "metadata": {},
   "outputs": [],
   "source": [
    "transform = transforms.Compose([transforms.ToTensor(),\n",
    "                                transforms.Normalize(mean=[0.5],\n",
    "                                std=[0.5])]\n",
    ")"
   ]
  },
  {
   "cell_type": "code",
   "execution_count": 11,
   "metadata": {},
   "outputs": [],
   "source": [
    "mnist = datasets.MNIST(root='./data/', train=True, transform=transform, download=True)"
   ]
  },
  {
   "cell_type": "code",
   "execution_count": 12,
   "metadata": {},
   "outputs": [],
   "source": [
    "batch_size = 64"
   ]
  },
  {
   "cell_type": "code",
   "execution_count": 13,
   "metadata": {},
   "outputs": [],
   "source": [
    "data_loader = DataLoader(dataset=mnist, batch_size=batch_size, shuffle=True, drop_last=True)"
   ]
  },
  {
   "cell_type": "code",
   "execution_count": 14,
   "metadata": {},
   "outputs": [],
   "source": [
    "criterion = nn.BCELoss()\n",
    "D_opt = torch.optim.Adam(D.parameters(), lr=0.001, betas=(0.5, 0.999))\n",
    "G_opt = torch.optim.Adam(G.parameters(), lr=0.001, betas=(0.5, 0.999))"
   ]
  },
  {
   "cell_type": "code",
   "execution_count": 15,
   "metadata": {},
   "outputs": [],
   "source": [
    "max_epoch = 30 # need more than 20 epochs for training generator\n",
    "step = 0\n",
    "n_critic = 1 # for training more k steps about Discriminator\n",
    "n_noise = 100"
   ]
  },
  {
   "cell_type": "code",
   "execution_count": 16,
   "metadata": {},
   "outputs": [],
   "source": [
    "D_labels = torch.ones([batch_size, 1]).to(DEVICE) # Discriminator Label to real\n",
    "D_fakes = torch.zeros([batch_size, 1]).to(DEVICE) # Discriminator Label to fake"
   ]
  },
  {
   "cell_type": "code",
   "execution_count": 17,
   "metadata": {
    "scrolled": true
   },
   "outputs": [
    {
     "name": "stdout",
     "output_type": "stream",
     "text": [
      "Epoch: 0/30, Step: 0, D Loss: 1.39903724193573, G Loss: 0.6557294130325317\n",
      "Epoch: 0/30, Step: 500, D Loss: 0.9678522348403931, G Loss: 1.2700605392456055\n",
      "Epoch: 1/30, Step: 1000, D Loss: 0.7642062902450562, G Loss: 1.2881889343261719\n",
      "Epoch: 1/30, Step: 1500, D Loss: 0.7840205430984497, G Loss: 1.4792797565460205\n",
      "Epoch: 2/30, Step: 2000, D Loss: 0.5571221113204956, G Loss: 1.7841157913208008\n",
      "Epoch: 2/30, Step: 2500, D Loss: 0.5141206979751587, G Loss: 1.86324143409729\n",
      "Epoch: 3/30, Step: 3000, D Loss: 0.41476619243621826, G Loss: 2.0274057388305664\n",
      "Epoch: 3/30, Step: 3500, D Loss: 0.4464302062988281, G Loss: 2.232180595397949\n",
      "Epoch: 4/30, Step: 4000, D Loss: 0.7934941649436951, G Loss: 1.3660130500793457\n",
      "Epoch: 4/30, Step: 4500, D Loss: 0.5802581906318665, G Loss: 1.1091766357421875\n",
      "Epoch: 5/30, Step: 5000, D Loss: 0.5997233390808105, G Loss: 0.9668800234794617\n",
      "Epoch: 5/30, Step: 5500, D Loss: 0.8984986543655396, G Loss: 1.9484479427337646\n",
      "Epoch: 6/30, Step: 6000, D Loss: 0.9234894514083862, G Loss: 3.972060441970825\n",
      "Epoch: 6/30, Step: 6500, D Loss: 0.4534776210784912, G Loss: 1.7500507831573486\n",
      "Epoch: 7/30, Step: 7000, D Loss: 0.5130835175514221, G Loss: 1.4205305576324463\n",
      "Epoch: 8/30, Step: 7500, D Loss: 0.4647330939769745, G Loss: 1.905730962753296\n",
      "Epoch: 8/30, Step: 8000, D Loss: 0.4983522593975067, G Loss: 1.7877259254455566\n",
      "Epoch: 9/30, Step: 8500, D Loss: 0.6787627935409546, G Loss: 0.6285447478294373\n",
      "Epoch: 9/30, Step: 9000, D Loss: 0.41610056161880493, G Loss: 1.1301281452178955\n",
      "Epoch: 10/30, Step: 9500, D Loss: 0.49600735306739807, G Loss: 1.4663302898406982\n",
      "Epoch: 10/30, Step: 10000, D Loss: 0.3353320360183716, G Loss: 3.2381978034973145\n",
      "Epoch: 11/30, Step: 10500, D Loss: 0.23618237674236298, G Loss: 1.3636678457260132\n",
      "Epoch: 11/30, Step: 11000, D Loss: 0.7726507782936096, G Loss: 3.854584217071533\n",
      "Epoch: 12/30, Step: 11500, D Loss: 0.2369832992553711, G Loss: 1.8718608617782593\n",
      "Epoch: 12/30, Step: 12000, D Loss: 0.5833800435066223, G Loss: 2.8270957469940186\n",
      "Epoch: 13/30, Step: 12500, D Loss: 0.9083461165428162, G Loss: 3.5605924129486084\n",
      "Epoch: 13/30, Step: 13000, D Loss: 0.4087315499782562, G Loss: 2.7664413452148438\n",
      "Epoch: 14/30, Step: 13500, D Loss: 0.3286246657371521, G Loss: 2.524458169937134\n",
      "Epoch: 14/30, Step: 14000, D Loss: 0.559016764163971, G Loss: 0.8526262044906616\n",
      "Epoch: 15/30, Step: 14500, D Loss: 0.5117664337158203, G Loss: 2.7741832733154297\n",
      "Epoch: 16/30, Step: 15000, D Loss: 0.28553298115730286, G Loss: 1.592050313949585\n",
      "Epoch: 16/30, Step: 15500, D Loss: 0.6639801263809204, G Loss: 2.422210216522217\n",
      "Epoch: 17/30, Step: 16000, D Loss: 0.530924916267395, G Loss: 2.169220447540283\n",
      "Epoch: 17/30, Step: 16500, D Loss: 0.3713476061820984, G Loss: 0.7195857763290405\n",
      "Epoch: 18/30, Step: 17000, D Loss: 0.270950585603714, G Loss: 2.7254786491394043\n",
      "Epoch: 18/30, Step: 17500, D Loss: 0.39166682958602905, G Loss: 2.908957004547119\n",
      "Epoch: 19/30, Step: 18000, D Loss: 0.47999775409698486, G Loss: 2.0606987476348877\n",
      "Epoch: 19/30, Step: 18500, D Loss: 0.2637292742729187, G Loss: 1.9323269128799438\n",
      "Epoch: 20/30, Step: 19000, D Loss: 0.4877399802207947, G Loss: 2.026379108428955\n",
      "Epoch: 20/30, Step: 19500, D Loss: 0.351252019405365, G Loss: 1.2133533954620361\n",
      "Epoch: 21/30, Step: 20000, D Loss: 0.44788217544555664, G Loss: 2.9725539684295654\n",
      "Epoch: 21/30, Step: 20500, D Loss: 0.768840491771698, G Loss: 3.958258628845215\n",
      "Epoch: 22/30, Step: 21000, D Loss: 0.7152867913246155, G Loss: 4.569766998291016\n",
      "Epoch: 22/30, Step: 21500, D Loss: 0.4459330141544342, G Loss: 1.9359850883483887\n",
      "Epoch: 23/30, Step: 22000, D Loss: 0.29132381081581116, G Loss: 2.3732006549835205\n",
      "Epoch: 24/30, Step: 22500, D Loss: 0.2901374101638794, G Loss: 3.553826332092285\n",
      "Epoch: 24/30, Step: 23000, D Loss: 0.4512096643447876, G Loss: 2.36006498336792\n",
      "Epoch: 25/30, Step: 23500, D Loss: 0.30321013927459717, G Loss: 1.1492395401000977\n",
      "Epoch: 25/30, Step: 24000, D Loss: 0.19879649579524994, G Loss: 3.260931968688965\n",
      "Epoch: 26/30, Step: 24500, D Loss: 0.8721269965171814, G Loss: 0.5589748620986938\n",
      "Epoch: 26/30, Step: 25000, D Loss: 0.42410528659820557, G Loss: 3.404292583465576\n",
      "Epoch: 27/30, Step: 25500, D Loss: 0.22125712037086487, G Loss: 2.4695916175842285\n",
      "Epoch: 27/30, Step: 26000, D Loss: 0.5397940874099731, G Loss: 2.6312990188598633\n",
      "Epoch: 28/30, Step: 26500, D Loss: 0.39121755957603455, G Loss: 3.3772287368774414\n",
      "Epoch: 28/30, Step: 27000, D Loss: 0.2996739447116852, G Loss: 2.204678773880005\n",
      "Epoch: 29/30, Step: 27500, D Loss: 0.6877331137657166, G Loss: 1.7440071105957031\n",
      "Epoch: 29/30, Step: 28000, D Loss: 0.3757016658782959, G Loss: 1.1976760625839233\n"
     ]
    }
   ],
   "source": [
    "for epoch in range(max_epoch):\n",
    "    for idx, (images, labels) in enumerate(data_loader):\n",
    "        # Training Discriminator\n",
    "        x = images.to(DEVICE)\n",
    "        x_outputs = D(x)\n",
    "        D_x_loss = criterion(x_outputs, D_labels)\n",
    "\n",
    "        z = torch.randn(batch_size, n_noise).to(DEVICE)\n",
    "        z_outputs = D(G(z))\n",
    "        D_z_loss = criterion(z_outputs, D_fakes)\n",
    "        D_loss = D_x_loss + D_z_loss\n",
    "        \n",
    "        D.zero_grad()\n",
    "        D_loss.backward()\n",
    "        D_opt.step()\n",
    "\n",
    "        if step % n_critic == 0:\n",
    "            # Training Generator\n",
    "            z = torch.randn(batch_size, n_noise).to(DEVICE)\n",
    "            z_outputs = D(G(z))\n",
    "            G_loss = criterion(z_outputs, D_labels)\n",
    "\n",
    "            D.zero_grad()\n",
    "            G.zero_grad()\n",
    "            G_loss.backward()\n",
    "            G_opt.step()\n",
    "        \n",
    "        if step % 500 == 0:\n",
    "            print('Epoch: {}/{}, Step: {}, D Loss: {}, G Loss: {}'.format(epoch, max_epoch, step, D_loss.item(), G_loss.item()))\n",
    "        \n",
    "        if step % 1000 == 0:\n",
    "            G.eval()\n",
    "            img = get_sample_image(G, n_noise)\n",
    "            imsave('samples/{}_step{}.jpg'.format(MODEL_NAME, str(step).zfill(3)), img, cmap='gray')\n",
    "            G.train()\n",
    "        step += 1"
   ]
  },
  {
   "cell_type": "code",
   "execution_count": null,
   "metadata": {},
   "outputs": [],
   "source": []
  },
  {
   "cell_type": "markdown",
   "metadata": {},
   "source": [
    "## Sample"
   ]
  },
  {
   "cell_type": "code",
   "execution_count": 36,
   "metadata": {},
   "outputs": [
    {
     "data": {
      "text/plain": [
       "<matplotlib.image.AxesImage at 0x7fd77833fc88>"
      ]
     },
     "execution_count": 36,
     "metadata": {},
     "output_type": "execute_result"
    },
    {
     "data": {
      "image/png": "[encoded data removed]",
      "text/plain": [
       "<Figure size 432x288 with 1 Axes>"
      ]
     },
     "metadata": {
      "needs_background": "light"
     },
     "output_type": "display_data"
    }
   ],
   "source": [
    "# generation to image\n",
    "G.eval()\n",
    "imshow(get_sample_image(G, n_noise), cmap='gray')"
   ]
  },
  {
   "cell_type": "code",
   "execution_count": null,
   "metadata": {},
   "outputs": [],
   "source": []
  },
  {
   "cell_type": "code",
   "execution_count": 19,
   "metadata": {},
   "outputs": [],
   "source": [
    "def save_checkpoint(state, file_name='checkpoint.pth.tar'):\n",
    "    torch.save(state, file_name)"
   ]
  },
  {
   "cell_type": "code",
   "execution_count": 20,
   "metadata": {},
   "outputs": [],
   "source": [
    "# Saving params.\n",
    "# torch.save(D.state_dict(), 'D_c.pkl')\n",
    "# torch.save(G.state_dict(), 'G_c.pkl')\n",
    "save_checkpoint({'epoch': epoch + 1, 'state_dict':D.state_dict(), 'optimizer' : D_opt.state_dict()}, 'D_dc.pth.tar')\n",
    "save_checkpoint({'epoch': epoch + 1, 'state_dict':G.state_dict(), 'optimizer' : G_opt.state_dict()}, 'G_dc.pth.tar')"
   ]
  },
  {
   "cell_type": "code",
   "execution_count": null,
   "metadata": {},
   "outputs": [],
   "source": []
  }
 ],
 "metadata": {
  "kernelspec": {
   "display_name": "Python 3",
   "language": "python",
   "name": "python3"
  },
  "language_info": {
   "codemirror_mode": {
    "name": "ipython",
    "version": 3
   },
   "file_extension": ".py",
   "mimetype": "text/x-python",
   "name": "python",
   "nbconvert_exporter": "python",
   "pygments_lexer": "ipython3",
   "version": "3.7.3"
  }
 },
 "nbformat": 4,
 "nbformat_minor": 4
}
