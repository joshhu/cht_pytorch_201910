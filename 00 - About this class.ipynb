{
 "cells": [
  {
   "cell_type": "markdown",
   "metadata": {},
   "source": [
    "# About this class\n",
    "\n",
    "* ### Python env on Linux\n",
    "* ### Google colab\n",
    "* ### Deep Learning\n",
    "* ### Neural Network Basics\n",
    "* ### PyTorch"
   ]
  },
  {
   "cell_type": "markdown",
   "metadata": {},
   "source": [
    "### 下載及安裝Anaconda (python 3.7)\n",
    "\n",
    "```shell\n",
    "$ wget https://repo.anaconda.com/archive/Anaconda3-2019.07-Linux-x86_64.sh\n",
    "$ chmod +x Anaconda3-2019.07-Linux-x86_64.sh\n",
    "$ ./Anaconda3-2019.07-Linux-x86_64.sh\n",
    "```"
   ]
  },
  {
   "cell_type": "markdown",
   "metadata": {},
   "source": [
    "### 建立Pytorch環境(python 3.7)\n",
    "\n",
    "```shell\n",
    "$ conda create -n pytorch anaconda nb_conda\n",
    "$ source activate pytorch\n",
    "$ pip install torch torchvision\n",
    "$ source deactivate pytorch\n",
    "```"
   ]
  },
  {
   "cell_type": "markdown",
   "metadata": {},
   "source": [
    "### 在pytorch這個conda env下昇級Jupyter Lab\n",
    "```shell\n",
    "$ source activate pytorch\n",
    "$ pip install --upgrade jupyterlab\n",
    "```"
   ]
  }
 ],
 "metadata": {
  "kernelspec": {
   "display_name": "Python [conda env:pytorch]",
   "language": "python",
   "name": "conda-env-pytorch-py"
  },
  "language_info": {
   "codemirror_mode": {
    "name": "ipython",
    "version": 3
   },
   "file_extension": ".py",
   "mimetype": "text/x-python",
   "name": "python",
   "nbconvert_exporter": "python",
   "pygments_lexer": "ipython3",
   "version": "3.6.5"
  }
 },
 "nbformat": 4,
 "nbformat_minor": 2
}
